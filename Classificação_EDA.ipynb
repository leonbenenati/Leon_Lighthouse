{
  "nbformat": 4,
  "nbformat_minor": 0,
  "metadata": {
    "colab": {
      "name": "Leon_Lighthouse_EDA.ipynb",
      "provenance": [],
      "authorship_tag": "ABX9TyPYtZSMPi9xYg5gaysNZJEs",
      "include_colab_link": true
    },
    "kernelspec": {
      "name": "python3",
      "display_name": "Python 3"
    },
    "language_info": {
      "name": "python"
    }
  },
  "cells": [
    {
      "cell_type": "markdown",
      "metadata": {
        "id": "view-in-github",
        "colab_type": "text"
      },
      "source": [
        "<a href=\"https://colab.research.google.com/github/leonbenenati/Leon_Lighthouse/blob/main/Leon_Lighthouse_EDA.ipynb\" target=\"_parent\"><img src=\"https://colab.research.google.com/assets/colab-badge.svg\" alt=\"Open In Colab\"/></a>"
      ]
    },
    {
      "cell_type": "markdown",
      "source": [
        "# Preparação inicial\n"
      ],
      "metadata": {
        "id": "yXB_11ewbR_P"
      }
    },
    {
      "cell_type": "code",
      "execution_count": null,
      "metadata": {
        "id": "jRMztwKJa6d5"
      },
      "outputs": [],
      "source": [
        "import pandas as pd\n",
        "import numpy as np\n"
      ]
    },
    {
      "cell_type": "code",
      "source": [
        "df = pd.read_csv(\"/content/wage_train.csv\")\n",
        "df.head()"
      ],
      "metadata": {
        "colab": {
          "base_uri": "https://localhost:8080/",
          "height": 374
        },
        "id": "k7VE35MWbL8g",
        "outputId": "86a8b6f0-7085-406c-e82b-ee11b12662d5"
      },
      "execution_count": null,
      "outputs": [
        {
          "output_type": "execute_result",
          "data": {
            "text/plain": [
              "   Unnamed: 0  age          workclass  fnlwgt   education  education_num  \\\n",
              "0           0   50   Self-emp-not-inc   83311   Bachelors             13   \n",
              "1           1   38            Private  215646     HS-grad              9   \n",
              "2           2   53            Private  234721        11th              7   \n",
              "3           3   28            Private  338409   Bachelors             13   \n",
              "4           4   37            Private  284582     Masters             14   \n",
              "\n",
              "        marital_status          occupation    relationship    race      sex  \\\n",
              "0   Married-civ-spouse     Exec-managerial         Husband   White     Male   \n",
              "1             Divorced   Handlers-cleaners   Not-in-family   White     Male   \n",
              "2   Married-civ-spouse   Handlers-cleaners         Husband   Black     Male   \n",
              "3   Married-civ-spouse      Prof-specialty            Wife   Black   Female   \n",
              "4   Married-civ-spouse     Exec-managerial            Wife   White   Female   \n",
              "\n",
              "   capital_gain  capital_loss  hours_per_week  native_country yearly_wage  \n",
              "0             0             0              13   United-States       <=50K  \n",
              "1             0             0              40   United-States       <=50K  \n",
              "2             0             0              40   United-States       <=50K  \n",
              "3             0             0              40            Cuba       <=50K  \n",
              "4             0             0              40   United-States       <=50K  "
            ],
            "text/html": [
              "\n",
              "  <div id=\"df-18d20af6-8e36-4179-a479-6aad2446a393\">\n",
              "    <div class=\"colab-df-container\">\n",
              "      <div>\n",
              "<style scoped>\n",
              "    .dataframe tbody tr th:only-of-type {\n",
              "        vertical-align: middle;\n",
              "    }\n",
              "\n",
              "    .dataframe tbody tr th {\n",
              "        vertical-align: top;\n",
              "    }\n",
              "\n",
              "    .dataframe thead th {\n",
              "        text-align: right;\n",
              "    }\n",
              "</style>\n",
              "<table border=\"1\" class=\"dataframe\">\n",
              "  <thead>\n",
              "    <tr style=\"text-align: right;\">\n",
              "      <th></th>\n",
              "      <th>Unnamed: 0</th>\n",
              "      <th>age</th>\n",
              "      <th>workclass</th>\n",
              "      <th>fnlwgt</th>\n",
              "      <th>education</th>\n",
              "      <th>education_num</th>\n",
              "      <th>marital_status</th>\n",
              "      <th>occupation</th>\n",
              "      <th>relationship</th>\n",
              "      <th>race</th>\n",
              "      <th>sex</th>\n",
              "      <th>capital_gain</th>\n",
              "      <th>capital_loss</th>\n",
              "      <th>hours_per_week</th>\n",
              "      <th>native_country</th>\n",
              "      <th>yearly_wage</th>\n",
              "    </tr>\n",
              "  </thead>\n",
              "  <tbody>\n",
              "    <tr>\n",
              "      <th>0</th>\n",
              "      <td>0</td>\n",
              "      <td>50</td>\n",
              "      <td>Self-emp-not-inc</td>\n",
              "      <td>83311</td>\n",
              "      <td>Bachelors</td>\n",
              "      <td>13</td>\n",
              "      <td>Married-civ-spouse</td>\n",
              "      <td>Exec-managerial</td>\n",
              "      <td>Husband</td>\n",
              "      <td>White</td>\n",
              "      <td>Male</td>\n",
              "      <td>0</td>\n",
              "      <td>0</td>\n",
              "      <td>13</td>\n",
              "      <td>United-States</td>\n",
              "      <td>&lt;=50K</td>\n",
              "    </tr>\n",
              "    <tr>\n",
              "      <th>1</th>\n",
              "      <td>1</td>\n",
              "      <td>38</td>\n",
              "      <td>Private</td>\n",
              "      <td>215646</td>\n",
              "      <td>HS-grad</td>\n",
              "      <td>9</td>\n",
              "      <td>Divorced</td>\n",
              "      <td>Handlers-cleaners</td>\n",
              "      <td>Not-in-family</td>\n",
              "      <td>White</td>\n",
              "      <td>Male</td>\n",
              "      <td>0</td>\n",
              "      <td>0</td>\n",
              "      <td>40</td>\n",
              "      <td>United-States</td>\n",
              "      <td>&lt;=50K</td>\n",
              "    </tr>\n",
              "    <tr>\n",
              "      <th>2</th>\n",
              "      <td>2</td>\n",
              "      <td>53</td>\n",
              "      <td>Private</td>\n",
              "      <td>234721</td>\n",
              "      <td>11th</td>\n",
              "      <td>7</td>\n",
              "      <td>Married-civ-spouse</td>\n",
              "      <td>Handlers-cleaners</td>\n",
              "      <td>Husband</td>\n",
              "      <td>Black</td>\n",
              "      <td>Male</td>\n",
              "      <td>0</td>\n",
              "      <td>0</td>\n",
              "      <td>40</td>\n",
              "      <td>United-States</td>\n",
              "      <td>&lt;=50K</td>\n",
              "    </tr>\n",
              "    <tr>\n",
              "      <th>3</th>\n",
              "      <td>3</td>\n",
              "      <td>28</td>\n",
              "      <td>Private</td>\n",
              "      <td>338409</td>\n",
              "      <td>Bachelors</td>\n",
              "      <td>13</td>\n",
              "      <td>Married-civ-spouse</td>\n",
              "      <td>Prof-specialty</td>\n",
              "      <td>Wife</td>\n",
              "      <td>Black</td>\n",
              "      <td>Female</td>\n",
              "      <td>0</td>\n",
              "      <td>0</td>\n",
              "      <td>40</td>\n",
              "      <td>Cuba</td>\n",
              "      <td>&lt;=50K</td>\n",
              "    </tr>\n",
              "    <tr>\n",
              "      <th>4</th>\n",
              "      <td>4</td>\n",
              "      <td>37</td>\n",
              "      <td>Private</td>\n",
              "      <td>284582</td>\n",
              "      <td>Masters</td>\n",
              "      <td>14</td>\n",
              "      <td>Married-civ-spouse</td>\n",
              "      <td>Exec-managerial</td>\n",
              "      <td>Wife</td>\n",
              "      <td>White</td>\n",
              "      <td>Female</td>\n",
              "      <td>0</td>\n",
              "      <td>0</td>\n",
              "      <td>40</td>\n",
              "      <td>United-States</td>\n",
              "      <td>&lt;=50K</td>\n",
              "    </tr>\n",
              "  </tbody>\n",
              "</table>\n",
              "</div>\n",
              "      <button class=\"colab-df-convert\" onclick=\"convertToInteractive('df-18d20af6-8e36-4179-a479-6aad2446a393')\"\n",
              "              title=\"Convert this dataframe to an interactive table.\"\n",
              "              style=\"display:none;\">\n",
              "        \n",
              "  <svg xmlns=\"http://www.w3.org/2000/svg\" height=\"24px\"viewBox=\"0 0 24 24\"\n",
              "       width=\"24px\">\n",
              "    <path d=\"M0 0h24v24H0V0z\" fill=\"none\"/>\n",
              "    <path d=\"M18.56 5.44l.94 2.06.94-2.06 2.06-.94-2.06-.94-.94-2.06-.94 2.06-2.06.94zm-11 1L8.5 8.5l.94-2.06 2.06-.94-2.06-.94L8.5 2.5l-.94 2.06-2.06.94zm10 10l.94 2.06.94-2.06 2.06-.94-2.06-.94-.94-2.06-.94 2.06-2.06.94z\"/><path d=\"M17.41 7.96l-1.37-1.37c-.4-.4-.92-.59-1.43-.59-.52 0-1.04.2-1.43.59L10.3 9.45l-7.72 7.72c-.78.78-.78 2.05 0 2.83L4 21.41c.39.39.9.59 1.41.59.51 0 1.02-.2 1.41-.59l7.78-7.78 2.81-2.81c.8-.78.8-2.07 0-2.86zM5.41 20L4 18.59l7.72-7.72 1.47 1.35L5.41 20z\"/>\n",
              "  </svg>\n",
              "      </button>\n",
              "      \n",
              "  <style>\n",
              "    .colab-df-container {\n",
              "      display:flex;\n",
              "      flex-wrap:wrap;\n",
              "      gap: 12px;\n",
              "    }\n",
              "\n",
              "    .colab-df-convert {\n",
              "      background-color: #E8F0FE;\n",
              "      border: none;\n",
              "      border-radius: 50%;\n",
              "      cursor: pointer;\n",
              "      display: none;\n",
              "      fill: #1967D2;\n",
              "      height: 32px;\n",
              "      padding: 0 0 0 0;\n",
              "      width: 32px;\n",
              "    }\n",
              "\n",
              "    .colab-df-convert:hover {\n",
              "      background-color: #E2EBFA;\n",
              "      box-shadow: 0px 1px 2px rgba(60, 64, 67, 0.3), 0px 1px 3px 1px rgba(60, 64, 67, 0.15);\n",
              "      fill: #174EA6;\n",
              "    }\n",
              "\n",
              "    [theme=dark] .colab-df-convert {\n",
              "      background-color: #3B4455;\n",
              "      fill: #D2E3FC;\n",
              "    }\n",
              "\n",
              "    [theme=dark] .colab-df-convert:hover {\n",
              "      background-color: #434B5C;\n",
              "      box-shadow: 0px 1px 3px 1px rgba(0, 0, 0, 0.15);\n",
              "      filter: drop-shadow(0px 1px 2px rgba(0, 0, 0, 0.3));\n",
              "      fill: #FFFFFF;\n",
              "    }\n",
              "  </style>\n",
              "\n",
              "      <script>\n",
              "        const buttonEl =\n",
              "          document.querySelector('#df-18d20af6-8e36-4179-a479-6aad2446a393 button.colab-df-convert');\n",
              "        buttonEl.style.display =\n",
              "          google.colab.kernel.accessAllowed ? 'block' : 'none';\n",
              "\n",
              "        async function convertToInteractive(key) {\n",
              "          const element = document.querySelector('#df-18d20af6-8e36-4179-a479-6aad2446a393');\n",
              "          const dataTable =\n",
              "            await google.colab.kernel.invokeFunction('convertToInteractive',\n",
              "                                                     [key], {});\n",
              "          if (!dataTable) return;\n",
              "\n",
              "          const docLinkHtml = 'Like what you see? Visit the ' +\n",
              "            '<a target=\"_blank\" href=https://colab.research.google.com/notebooks/data_table.ipynb>data table notebook</a>'\n",
              "            + ' to learn more about interactive tables.';\n",
              "          element.innerHTML = '';\n",
              "          dataTable['output_type'] = 'display_data';\n",
              "          await google.colab.output.renderOutput(dataTable, element);\n",
              "          const docLink = document.createElement('div');\n",
              "          docLink.innerHTML = docLinkHtml;\n",
              "          element.appendChild(docLink);\n",
              "        }\n",
              "      </script>\n",
              "    </div>\n",
              "  </div>\n",
              "  "
            ]
          },
          "metadata": {},
          "execution_count": 2
        }
      ]
    },
    {
      "cell_type": "code",
      "source": [
        "df.info()"
      ],
      "metadata": {
        "colab": {
          "base_uri": "https://localhost:8080/"
        },
        "id": "gT8MH4jRbkfx",
        "outputId": "579b6a9a-6f7d-4b92-d285-185393849eab"
      },
      "execution_count": null,
      "outputs": [
        {
          "output_type": "stream",
          "name": "stdout",
          "text": [
            "<class 'pandas.core.frame.DataFrame'>\n",
            "RangeIndex: 32560 entries, 0 to 32559\n",
            "Data columns (total 16 columns):\n",
            " #   Column          Non-Null Count  Dtype \n",
            "---  ------          --------------  ----- \n",
            " 0   Unnamed: 0      32560 non-null  int64 \n",
            " 1   age             32560 non-null  int64 \n",
            " 2   workclass       32560 non-null  object\n",
            " 3   fnlwgt          32560 non-null  int64 \n",
            " 4   education       32560 non-null  object\n",
            " 5   education_num   32560 non-null  int64 \n",
            " 6   marital_status  32560 non-null  object\n",
            " 7   occupation      32560 non-null  object\n",
            " 8   relationship    32560 non-null  object\n",
            " 9   race            32560 non-null  object\n",
            " 10  sex             32560 non-null  object\n",
            " 11  capital_gain    32560 non-null  int64 \n",
            " 12  capital_loss    32560 non-null  int64 \n",
            " 13  hours_per_week  32560 non-null  int64 \n",
            " 14  native_country  32560 non-null  object\n",
            " 15  yearly_wage     32560 non-null  object\n",
            "dtypes: int64(7), object(9)\n",
            "memory usage: 4.0+ MB\n"
          ]
        }
      ]
    },
    {
      "cell_type": "code",
      "source": [
        "df.isnull().sum()"
      ],
      "metadata": {
        "colab": {
          "base_uri": "https://localhost:8080/"
        },
        "id": "33ngWU1lboNN",
        "outputId": "6b08eba4-6958-4d2e-d9c4-d1af524936c4"
      },
      "execution_count": null,
      "outputs": [
        {
          "output_type": "execute_result",
          "data": {
            "text/plain": [
              "Unnamed: 0        0\n",
              "age               0\n",
              "workclass         0\n",
              "fnlwgt            0\n",
              "education         0\n",
              "education_num     0\n",
              "marital_status    0\n",
              "occupation        0\n",
              "relationship      0\n",
              "race              0\n",
              "sex               0\n",
              "capital_gain      0\n",
              "capital_loss      0\n",
              "hours_per_week    0\n",
              "native_country    0\n",
              "yearly_wage       0\n",
              "dtype: int64"
            ]
          },
          "metadata": {},
          "execution_count": 6
        }
      ]
    },
    {
      "cell_type": "markdown",
      "source": [
        "# EDA\n",
        "\n",
        "Na EDA será analisado as colunas em relação a variavel alvo, que nesse caso é yearly_wage.\n",
        "\n",
        "Na Variável categóricas será apresentado em forma de histograma, onde terá uma visualização se aquela variável impacta ou não na renda\n",
        "\n",
        "Para as Variáveis númerica será utilizada o Boxplot para verificar a mediana e como é a disperção dos dados, se há outliers. Também será analisado com yearly_wage\n",
        "\n",
        "yearly_wage Ganhará uma visualização pois é importanta saber as principais características da váriavel que queremos prever\n"
      ],
      "metadata": {
        "id": "gsjqk0JYbzI4"
      }
    },
    {
      "cell_type": "code",
      "source": [
        "import matplotlib.pyplot as plt\n",
        "import seaborn as sns\n",
        "%matplotlib inline"
      ],
      "metadata": {
        "id": "Us3MDDlHb3Oj"
      },
      "execution_count": null,
      "outputs": []
    },
    {
      "cell_type": "markdown",
      "source": [
        "## **Renda**"
      ],
      "metadata": {
        "id": "s_2HwXBIi-cw"
      }
    },
    {
      "cell_type": "code",
      "source": [
        "sns.set_style(\"darkgrid\")\n",
        "plt.figure(figsize = (8,5))\n",
        "plt.title('Distribuição de renda', fontsize=18, fontweight='bold')\n",
        "eda = df['yearly_wage'].value_counts(normalize = True).rename_axis('Renda').reset_index(name = 'Distribuição')\n",
        "\n",
        "ax = sns.barplot(x = 'Renda', y = 'Distribuição', data = eda.head(10), palette='Blues_r')\n",
        "for p in ax.patches:\n",
        "    width = p.get_width()\n",
        "    height = p.get_height()\n",
        "    x, y = p.get_xy() \n",
        "    ax.annotate(f'{height:.0%}', (x + width/2, y + height*1.02), ha='center', fontweight='bold')"
      ],
      "metadata": {
        "colab": {
          "base_uri": "https://localhost:8080/",
          "height": 359
        },
        "id": "bP95uxN3cTN2",
        "outputId": "99241324-7c2c-45e2-f438-2209efd5387f"
      },
      "execution_count": null,
      "outputs": [
        {
          "output_type": "display_data",
          "data": {
            "text/plain": [
              "<Figure size 576x360 with 1 Axes>"
            ],
            "image/png": "[encoded data removed]"
          },
          "metadata": {}
        }
      ]
    },
    {
      "cell_type": "markdown",
      "source": [
        "\n",
        "\n",
        "\n",
        "\n",
        "*   76% da base ganha menos de 50k\n",
        "*   24% da base ganha mais de 50k\n",
        "*   Como esperado a maior parte da base ganha menos de 50k\n",
        "\n",
        "\n",
        "\n"
      ],
      "metadata": {
        "id": "JEAmbuLpfUJH"
      }
    },
    {
      "cell_type": "markdown",
      "source": [
        "## Idade"
      ],
      "metadata": {
        "id": "b_ZVhnOQjJR9"
      }
    },
    {
      "cell_type": "code",
      "source": [
        "df[\"age\"].describe()"
      ],
      "metadata": {
        "colab": {
          "base_uri": "https://localhost:8080/"
        },
        "id": "SpeJA04bgn2g",
        "outputId": "bf528b28-cbbc-4eff-ba1b-19c800eba6cd"
      },
      "execution_count": null,
      "outputs": [
        {
          "output_type": "execute_result",
          "data": {
            "text/plain": [
              "count    32560.000000\n",
              "mean        38.581634\n",
              "std         13.640642\n",
              "min         17.000000\n",
              "25%         28.000000\n",
              "50%         37.000000\n",
              "75%         48.000000\n",
              "max         90.000000\n",
              "Name: age, dtype: float64"
            ]
          },
          "metadata": {},
          "execution_count": 35
        }
      ]
    },
    {
      "cell_type": "code",
      "source": [
        "sns.set_theme(style=\"darkgrid\")\n",
        "plt.figure(figsize = (8,5))\n",
        "plt.title('Boxplot de idade', fontsize=18, fontweight='bold')\n",
        "ax = sns.boxplot(x=df[\"age\"],palette='Blues_r')\n",
        "ax.set(xlabel='Idade')"
      ],
      "metadata": {
        "colab": {
          "base_uri": "https://localhost:8080/",
          "height": 376
        },
        "id": "yMZJo_RLhqaQ",
        "outputId": "5fd4927c-6027-4930-b980-366d1a058c53"
      },
      "execution_count": null,
      "outputs": [
        {
          "output_type": "execute_result",
          "data": {
            "text/plain": [
              "[Text(0.5, 0, 'Idade')]"
            ]
          },
          "metadata": {},
          "execution_count": 67
        },
        {
          "output_type": "display_data",
          "data": {
            "text/plain": [
              "<Figure size 576x360 with 1 Axes>"
            ],
            "image/png": "[encoded data removed]"
          },
          "metadata": {}
        }
      ]
    },
    {
      "cell_type": "markdown",
      "source": [
        "\n",
        "\n",
        "*   Mediana é 37 é a média é 38,58\n",
        "*   O primeiro quartil está em 25 e o terceiro em 48\n",
        "*   Mínimo é 17. Máximo é 90\n",
        "\n",
        "\n",
        "\n"
      ],
      "metadata": {
        "id": "SAXsn2NBl4nh"
      }
    },
    {
      "cell_type": "code",
      "source": [
        "sns.set_theme(style=\"darkgrid\")\n",
        "plt.figure(figsize = (8,7))\n",
        "plt.title('Boxplot da idade por renda', fontsize=18, fontweight='bold')\n",
        "ax = sns.boxplot(x=df[\"yearly_wage\"],y=df['age'],palette='Blues_r')\n",
        "ax.set(xlabel='Idade', ylabel=\"Renda\")"
      ],
      "metadata": {
        "colab": {
          "base_uri": "https://localhost:8080/",
          "height": 485
        },
        "id": "NravUXWziev-",
        "outputId": "207a8d8c-4db0-4f8f-ceea-e6e09317741c"
      },
      "execution_count": null,
      "outputs": [
        {
          "output_type": "execute_result",
          "data": {
            "text/plain": [
              "[Text(0, 0.5, 'Renda'), Text(0.5, 0, 'Idade')]"
            ]
          },
          "metadata": {},
          "execution_count": 64
        },
        {
          "output_type": "display_data",
          "data": {
            "text/plain": [
              "<Figure size 576x504 with 1 Axes>"
            ],
            "image/png": "[encoded data removed]"
          },
          "metadata": {}
        }
      ]
    },
    {
      "cell_type": "markdown",
      "source": [
        "\n",
        "\n",
        "*   A médiana/média de quem ganha mais de 50 mil é maior de quem ganha menos de 50 mil\n",
        "\n",
        "\n",
        "\n"
      ],
      "metadata": {
        "id": "aduyIO4kmxFp"
      }
    },
    {
      "cell_type": "markdown",
      "source": [
        "## Trabalho"
      ],
      "metadata": {
        "id": "4gZubhfiolPp"
      }
    },
    {
      "cell_type": "code",
      "source": [
        "df[\"workclass\"].unique()"
      ],
      "metadata": {
        "colab": {
          "base_uri": "https://localhost:8080/"
        },
        "id": "B1-cZlO7pl78",
        "outputId": "0d48b83e-21f9-4678-daac-51513b073087"
      },
      "execution_count": null,
      "outputs": [
        {
          "output_type": "execute_result",
          "data": {
            "text/plain": [
              "array([' Self-emp-not-inc', ' Private', ' State-gov', ' Federal-gov',\n",
              "       ' Local-gov', ' ?', ' Self-emp-inc', ' Without-pay',\n",
              "       ' Never-worked'], dtype=object)"
            ]
          },
          "metadata": {},
          "execution_count": 76
        }
      ]
    },
    {
      "cell_type": "code",
      "source": [
        "plt.figure(figsize=(15,6))\n",
        "sns.set_theme(style=\"darkgrid\")\n",
        "order_list = [' Self-emp-not-inc', ' Private', ' State-gov', ' Federal-gov',\n",
        "       ' Local-gov', ' ?', ' Self-emp-inc', ' Without-pay',\n",
        "       ' Never-worked']\n",
        "\n",
        "sns.countplot(x=df['workclass'], hue= df['yearly_wage'], palette='Blues_r', order= order_list)\n",
        "plt.title('Renda por tipo de trabalho', fontsize=18, fontweight='bold')\n"
      ],
      "metadata": {
        "colab": {
          "base_uri": "https://localhost:8080/"
        },
        "id": "rarNifIEoqyk",
        "outputId": "3fa813c6-d667-46a0-8356-eebae6b58235"
      },
      "execution_count": null,
      "outputs": [
        {
          "output_type": "execute_result",
          "data": {
            "text/plain": [
              "[Text(0.5, 20.200000000000003, 'Trabalho')]"
            ]
          },
          "metadata": {},
          "execution_count": 93
        },
        {
          "output_type": "display_data",
          "data": {
            "text/plain": [
              "<Figure size 1080x432 with 1 Axes>"
            ],
            "image/png": "[encoded data removed]"
          },
          "metadata": {}
        }
      ]
    },
    {
      "cell_type": "markdown",
      "source": [
        "\n",
        "\n",
        "\n",
        "*   A maior parte da base trabalha no setor privado, onde cerca 17500 ganha menos de 50k e cerca de 5000 ganha menos de 50k.   \n",
        "*   Parte da base não tem informação, está com ponto de interrogação, precisará ser analisado esse dado se sofrer impacto na predição.\n",
        "\n",
        "\n",
        "\n",
        "\n",
        "\n",
        "\n",
        "\n",
        "\n",
        "\n",
        "\n"
      ],
      "metadata": {
        "id": "igLJcmIJsjfi"
      }
    },
    {
      "cell_type": "code",
      "source": [
        "plt.figure(figsize=(15,6))\n",
        "sns.countplot(df['workclass'],label=\"Count\")"
      ],
      "metadata": {
        "colab": {
          "base_uri": "https://localhost:8080/"
        },
        "id": "h5e4VP1nuBLz",
        "outputId": "9b7879ef-f7fb-496f-c43d-147763f033f7"
      },
      "execution_count": null,
      "outputs": [
        {
          "output_type": "stream",
          "name": "stderr",
          "text": [
            "/usr/local/lib/python3.7/dist-packages/seaborn/_decorators.py:43: FutureWarning: Pass the following variable as a keyword arg: x. From version 0.12, the only valid positional argument will be `data`, and passing other arguments without an explicit keyword will result in an error or misinterpretation.\n",
            "  FutureWarning\n"
          ]
        },
        {
          "output_type": "execute_result",
          "data": {
            "text/plain": [
              "<matplotlib.axes._subplots.AxesSubplot at 0x7eff1f9f2c50>"
            ]
          },
          "metadata": {},
          "execution_count": 97
        },
        {
          "output_type": "display_data",
          "data": {
            "text/plain": [
              "<Figure size 1080x432 with 1 Axes>"
            ],
            "image/png": "[encoded data removed]"
          },
          "metadata": {}
        }
      ]
    },
    {
      "cell_type": "code",
      "source": [
        "df['workclass'].value_counts()"
      ],
      "metadata": {
        "colab": {
          "base_uri": "https://localhost:8080/"
        },
        "id": "4-k44EivvZwi",
        "outputId": "8704df9d-d43d-4dc5-e55b-d3aa16bcec3f"
      },
      "execution_count": null,
      "outputs": [
        {
          "output_type": "execute_result",
          "data": {
            "text/plain": [
              " Private             22696\n",
              " Self-emp-not-inc     2541\n",
              " Local-gov            2093\n",
              " ?                    1836\n",
              " State-gov            1297\n",
              " Self-emp-inc         1116\n",
              " Federal-gov           960\n",
              " Without-pay            14\n",
              " Never-worked            7\n",
              "Name: workclass, dtype: int64"
            ]
          },
          "metadata": {},
          "execution_count": 103
        }
      ]
    },
    {
      "cell_type": "markdown",
      "source": [
        "\n",
        "\n",
        "\n",
        "*   Without-pay e Never-worked tem juntos 21 pesssoas na base\n",
        "\n",
        "\n"
      ],
      "metadata": {
        "id": "CHbFJnpAvm5f"
      }
    },
    {
      "cell_type": "markdown",
      "source": [
        "## Educação"
      ],
      "metadata": {
        "id": "Aw2Fbcfatsql"
      }
    },
    {
      "cell_type": "code",
      "source": [
        "df[\"education\"].unique()"
      ],
      "metadata": {
        "colab": {
          "base_uri": "https://localhost:8080/"
        },
        "id": "J-pOobzXyam7",
        "outputId": "82fdd9b4-e0b3-4526-c794-a76b0f498d62"
      },
      "execution_count": null,
      "outputs": [
        {
          "output_type": "execute_result",
          "data": {
            "text/plain": [
              "array([' Bachelors', ' HS-grad', ' 11th', ' Masters', ' 9th',\n",
              "       ' Some-college', ' Assoc-acdm', ' Assoc-voc', ' 7th-8th',\n",
              "       ' Doctorate', ' Prof-school', ' 5th-6th', ' 10th', ' 1st-4th',\n",
              "       ' Preschool', ' 12th'], dtype=object)"
            ]
          },
          "metadata": {},
          "execution_count": 106
        }
      ]
    },
    {
      "cell_type": "markdown",
      "source": [
        ""
      ],
      "metadata": {
        "id": "lHpum1RyvGe4"
      }
    },
    {
      "cell_type": "code",
      "source": [
        "plt.figure(figsize=(15,6))\n",
        "order_list = [' Bachelors', ' HS-grad', ' 11th', ' Masters', ' 9th',\n",
        "       ' Some-college', ' Assoc-acdm', ' Assoc-voc', ' 7th-8th',\n",
        "       ' Doctorate', ' Prof-school', ' 5th-6th', ' 10th', ' 1st-4th',\n",
        "       ' Preschool', ' 12th']\n",
        "sns.countplot(df['education'], hue = df['yearly_wage'], palette='Blues_r', order= order_list)\n",
        "plt.title('Renda por nível de educação', fontsize=18, fontweight='bold')\n",
        "plt.xticks(fontsize=16,rotation = 90)"
      ],
      "metadata": {
        "colab": {
          "base_uri": "https://localhost:8080/",
          "height": 607
        },
        "id": "2SHMFtjztu-t",
        "outputId": "3559e297-5ad8-49ba-e753-9d9f2df7550d"
      },
      "execution_count": null,
      "outputs": [
        {
          "output_type": "stream",
          "name": "stderr",
          "text": [
            "/usr/local/lib/python3.7/dist-packages/seaborn/_decorators.py:43: FutureWarning: Pass the following variable as a keyword arg: x. From version 0.12, the only valid positional argument will be `data`, and passing other arguments without an explicit keyword will result in an error or misinterpretation.\n",
            "  FutureWarning\n"
          ]
        },
        {
          "output_type": "execute_result",
          "data": {
            "text/plain": [
              "(array([ 0,  1,  2,  3,  4,  5,  6,  7,  8,  9, 10, 11, 12, 13, 14, 15]),\n",
              " <a list of 16 Text major ticklabel objects>)"
            ]
          },
          "metadata": {},
          "execution_count": 116
        },
        {
          "output_type": "display_data",
          "data": {
            "text/plain": [
              "<Figure size 1080x432 with 1 Axes>"
            ],
            "image/png": "[encoded data removed]"
          },
          "metadata": {}
        }
      ]
    },
    {
      "cell_type": "markdown",
      "source": [
        "\n",
        "\n",
        "*   Entre quem tem o ensino (HS-grad) o número de quem ganha menos de 50k é muito maior do que quem ganha mais de 50k\n",
        "*   Entre quem é Bacharel (Bachelors) a o número de quem ganha menos de 50k é um pouco maior do que quem ganha mais de 50k\n",
        "*   Entre quem é mestre (Masters) a o número de quem ganha menos de 50k é menor do que quem ganha mais de 50k\n",
        "\n",
        "\n",
        "\n"
      ],
      "metadata": {
        "id": "QMarHZIHy71q"
      }
    },
    {
      "cell_type": "code",
      "source": [
        ""
      ],
      "metadata": {
        "id": "W7fzIpXX0-_V"
      },
      "execution_count": null,
      "outputs": []
    },
    {
      "cell_type": "markdown",
      "source": [
        "## Estado Civil"
      ],
      "metadata": {
        "id": "ZlzO6ABS1B76"
      }
    },
    {
      "cell_type": "code",
      "source": [
        "df['marital_status'].unique()"
      ],
      "metadata": {
        "colab": {
          "base_uri": "https://localhost:8080/"
        },
        "id": "eDF7xUpW1_8m",
        "outputId": "b1f1d7db-451c-47fb-e9bc-6efd93fe851b"
      },
      "execution_count": null,
      "outputs": [
        {
          "output_type": "execute_result",
          "data": {
            "text/plain": [
              "array([' Married-civ-spouse', ' Divorced', ' Married-spouse-absent',\n",
              "       ' Never-married', ' Separated', ' Married-AF-spouse', ' Widowed'],\n",
              "      dtype=object)"
            ]
          },
          "metadata": {},
          "execution_count": 118
        }
      ]
    },
    {
      "cell_type": "code",
      "source": [
        "plt.figure(figsize=(12,6))\n",
        "order_list = [' Married-civ-spouse', ' Divorced', ' Married-spouse-absent',\n",
        "       ' Never-married', ' Separated', ' Married-AF-spouse', ' Widowed']\n",
        "sns.countplot(df['marital_status'], hue = df['yearly_wage'], palette='Blues_r', order= order_list)\n",
        "plt.title('Renda por estado civil', fontsize=18, fontweight='bold')\n",
        "plt.xticks(fontsize=16,rotation = 90)"
      ],
      "metadata": {
        "colab": {
          "base_uri": "https://localhost:8080/",
          "height": 665
        },
        "id": "sVzFxhE21-dZ",
        "outputId": "653d7953-3eee-476a-84fa-d40e7c4cffae"
      },
      "execution_count": null,
      "outputs": [
        {
          "output_type": "stream",
          "name": "stderr",
          "text": [
            "/usr/local/lib/python3.7/dist-packages/seaborn/_decorators.py:43: FutureWarning: Pass the following variable as a keyword arg: x. From version 0.12, the only valid positional argument will be `data`, and passing other arguments without an explicit keyword will result in an error or misinterpretation.\n",
            "  FutureWarning\n"
          ]
        },
        {
          "output_type": "execute_result",
          "data": {
            "text/plain": [
              "(array([0, 1, 2, 3, 4, 5, 6]), <a list of 7 Text major ticklabel objects>)"
            ]
          },
          "metadata": {},
          "execution_count": 125
        },
        {
          "output_type": "display_data",
          "data": {
            "text/plain": [
              "<Figure size 864x432 with 1 Axes>"
            ],
            "image/png": "[encoded data removed]"
          },
          "metadata": {}
        }
      ]
    },
    {
      "cell_type": "markdown",
      "source": [
        "\n",
        "\n",
        "*   Entre quem nunca casou a quantidade de quem ganha menos de 50k é muitor de quem ganha mais de 50k.\n",
        "*   A maior parte de quem ganha mais de 50k está casado.\n",
        "\n"
      ],
      "metadata": {
        "id": "eZYC9tcY2yKE"
      }
    },
    {
      "cell_type": "markdown",
      "source": [
        "## Ocupação"
      ],
      "metadata": {
        "id": "xKU3pThx1B8p"
      }
    },
    {
      "cell_type": "code",
      "source": [
        "df[\"occupation\"].unique()"
      ],
      "metadata": {
        "colab": {
          "base_uri": "https://localhost:8080/"
        },
        "id": "lisjtqBR388o",
        "outputId": "5bfb77aa-0dde-4616-bf21-add9344fd69c"
      },
      "execution_count": null,
      "outputs": [
        {
          "output_type": "execute_result",
          "data": {
            "text/plain": [
              "array([' Exec-managerial', ' Handlers-cleaners', ' Prof-specialty',\n",
              "       ' Other-service', ' Adm-clerical', ' Sales', ' Craft-repair',\n",
              "       ' Transport-moving', ' Farming-fishing', ' Machine-op-inspct',\n",
              "       ' Tech-support', ' ?', ' Protective-serv', ' Armed-Forces',\n",
              "       ' Priv-house-serv'], dtype=object)"
            ]
          },
          "metadata": {},
          "execution_count": 124
        }
      ]
    },
    {
      "cell_type": "code",
      "source": [
        "plt.figure(figsize=(12,6))\n",
        "order_list = ['Exec-managerial', ' Handlers-cleaners', ' Prof-specialty',\n",
        "       ' Other-service', ' Adm-clerical', ' Sales', ' Craft-repair',\n",
        "       ' Transport-moving', ' Farming-fishing', ' Machine-op-inspct',\n",
        "       ' Tech-support', ' ?', ' Protective-serv', ' Armed-Forces',\n",
        "       ' Priv-house-serv']\n",
        "sns.countplot(df['occupation'], hue = df['yearly_wage'], palette='Blues_r', order= order_list)\n",
        "plt.title('Renda por ocupação', fontsize=18, fontweight='bold')\n",
        "plt.xticks(fontsize=16,rotation = 90)"
      ],
      "metadata": {
        "colab": {
          "base_uri": "https://localhost:8080/",
          "height": 645
        },
        "id": "r5xwzejP4DbI",
        "outputId": "26ad3403-75b7-4e0a-ee5f-7c45cec7c00a"
      },
      "execution_count": null,
      "outputs": [
        {
          "output_type": "stream",
          "name": "stderr",
          "text": [
            "/usr/local/lib/python3.7/dist-packages/seaborn/_decorators.py:43: FutureWarning: Pass the following variable as a keyword arg: x. From version 0.12, the only valid positional argument will be `data`, and passing other arguments without an explicit keyword will result in an error or misinterpretation.\n",
            "  FutureWarning\n"
          ]
        },
        {
          "output_type": "execute_result",
          "data": {
            "text/plain": [
              "(array([ 0,  1,  2,  3,  4,  5,  6,  7,  8,  9, 10, 11, 12, 13, 14]),\n",
              " <a list of 15 Text major ticklabel objects>)"
            ]
          },
          "metadata": {},
          "execution_count": 127
        },
        {
          "output_type": "display_data",
          "data": {
            "text/plain": [
              "<Figure size 864x432 with 1 Axes>"
            ],
            "image/png": "[encoded data removed]"
          },
          "metadata": {}
        }
      ]
    },
    {
      "cell_type": "markdown",
      "source": [
        "\n",
        "\n",
        "*   Especialistas a proporção de quem ganha menos é um pouco maior \n",
        "*   Vendas e Conserto de artesanato tem a segunda e terceiro maior quantidade de pessoas que ganham mais de 50k mas tem grande quantidade que ganha menos de 50\n",
        "* nenhuma ocupação apresenta quantidade de pessoas que ganham 50k maior do que ganha menos\n",
        "* Tem dados sem informação apenas com ponto de interrogação, será necessário analisar se impactar na predição\n",
        "\n"
      ],
      "metadata": {
        "id": "dy15wDcP4z0i"
      }
    },
    {
      "cell_type": "markdown",
      "source": [
        "## Relacionamento "
      ],
      "metadata": {
        "id": "Ha2rOlQd518D"
      }
    },
    {
      "cell_type": "code",
      "source": [
        "df[\"relationship\"].unique()"
      ],
      "metadata": {
        "colab": {
          "base_uri": "https://localhost:8080/"
        },
        "id": "eUCQm-1s4DcV",
        "outputId": "2051ca22-6b09-43bb-dbff-22617091fbf8"
      },
      "execution_count": null,
      "outputs": [
        {
          "output_type": "execute_result",
          "data": {
            "text/plain": [
              "array([' Husband', ' Not-in-family', ' Wife', ' Own-child', ' Unmarried',\n",
              "       ' Other-relative'], dtype=object)"
            ]
          },
          "metadata": {},
          "execution_count": 128
        }
      ]
    },
    {
      "cell_type": "code",
      "source": [
        "plt.figure(figsize=(12,6))\n",
        "order_list = [' Husband', ' Not-in-family', ' Wife', ' Own-child', ' Unmarried',\n",
        "       ' Other-relative']\n",
        "sns.countplot(df['relationship'], hue = df['yearly_wage'], palette='Blues_r', order= order_list)\n",
        "plt.title('Renda por relacionamento', fontsize=18, fontweight='bold')"
      ],
      "metadata": {
        "colab": {
          "base_uri": "https://localhost:8080/",
          "height": 486
        },
        "id": "0it0_fDb6GH-",
        "outputId": "278e4457-6510-40bc-844a-8628debf631a"
      },
      "execution_count": null,
      "outputs": [
        {
          "output_type": "stream",
          "name": "stderr",
          "text": [
            "/usr/local/lib/python3.7/dist-packages/seaborn/_decorators.py:43: FutureWarning: Pass the following variable as a keyword arg: x. From version 0.12, the only valid positional argument will be `data`, and passing other arguments without an explicit keyword will result in an error or misinterpretation.\n",
            "  FutureWarning\n"
          ]
        },
        {
          "output_type": "execute_result",
          "data": {
            "text/plain": [
              "Text(0.5, 1.0, 'Renda por relacionamento')"
            ]
          },
          "metadata": {},
          "execution_count": 130
        },
        {
          "output_type": "display_data",
          "data": {
            "text/plain": [
              "<Figure size 864x432 with 1 Axes>"
            ],
            "image/png": "[encoded data removed]"
          },
          "metadata": {}
        }
      ]
    },
    {
      "cell_type": "markdown",
      "source": [
        "\n",
        "\n",
        "*   Entre as esposas a proporção é quase igual\n",
        "*   Entre os maridos a proporção de quem ganha menos de 50k é maior\n",
        "*   Entre os não casados apenas alguns ganha mais de 50k\n",
        "\n"
      ],
      "metadata": {
        "id": "fChQyGXX6d0I"
      }
    },
    {
      "cell_type": "markdown",
      "source": [
        "## Sexo"
      ],
      "metadata": {
        "id": "yBY9kZ597o8Z"
      }
    },
    {
      "cell_type": "code",
      "source": [
        "df[\"sex\"].unique()"
      ],
      "metadata": {
        "colab": {
          "base_uri": "https://localhost:8080/"
        },
        "id": "EGrGrldF8kB9",
        "outputId": "c94d37b2-9b9f-4d68-e45b-d2d96f0ddf33"
      },
      "execution_count": null,
      "outputs": [
        {
          "output_type": "execute_result",
          "data": {
            "text/plain": [
              "array([' Male', ' Female'], dtype=object)"
            ]
          },
          "metadata": {},
          "execution_count": 135
        }
      ]
    },
    {
      "cell_type": "code",
      "source": [
        "plt.figure(figsize=(12,6))\n",
        "order_list = [' Male', ' Female']\n",
        "sns.countplot(df['sex'], hue = df['yearly_wage'], palette='Blues_r', order= order_list)\n",
        "plt.title('Renda por sexo', fontsize=18, fontweight='bold')"
      ],
      "metadata": {
        "colab": {
          "base_uri": "https://localhost:8080/",
          "height": 486
        },
        "id": "phCGJHL87yLg",
        "outputId": "16fbbcd0-e3a5-46a7-b894-a4ed17ea41d4"
      },
      "execution_count": null,
      "outputs": [
        {
          "output_type": "stream",
          "name": "stderr",
          "text": [
            "/usr/local/lib/python3.7/dist-packages/seaborn/_decorators.py:43: FutureWarning: Pass the following variable as a keyword arg: x. From version 0.12, the only valid positional argument will be `data`, and passing other arguments without an explicit keyword will result in an error or misinterpretation.\n",
            "  FutureWarning\n"
          ]
        },
        {
          "output_type": "execute_result",
          "data": {
            "text/plain": [
              "Text(0.5, 1.0, 'Renda por relacionamento')"
            ]
          },
          "metadata": {},
          "execution_count": 136
        },
        {
          "output_type": "display_data",
          "data": {
            "text/plain": [
              "<Figure size 864x432 with 1 Axes>"
            ],
            "image/png": "[encoded data removed]"
          },
          "metadata": {}
        }
      ]
    },
    {
      "cell_type": "markdown",
      "source": [
        ""
      ],
      "metadata": {
        "id": "splAYNqP82Jv"
      }
    },
    {
      "cell_type": "markdown",
      "source": [
        "\n",
        "\n",
        "*   Tem mais Homens do que mulheres\n",
        "*   A proporção de homens que ganham mais de 50k é maior do que mulheres. Cerca de 35% para homens e 10% para mulheres\n",
        "\n"
      ],
      "metadata": {
        "id": "1RD_xGkB82LP"
      }
    },
    {
      "cell_type": "markdown",
      "source": [
        "## Raça"
      ],
      "metadata": {
        "id": "_TfeFtuO964T"
      }
    },
    {
      "cell_type": "code",
      "source": [
        "df[\"race\"].unique()"
      ],
      "metadata": {
        "colab": {
          "base_uri": "https://localhost:8080/"
        },
        "id": "tVXT0Cr9804q",
        "outputId": "db58feee-ca38-450a-ed21-af58bb5f7715"
      },
      "execution_count": null,
      "outputs": [
        {
          "output_type": "execute_result",
          "data": {
            "text/plain": [
              "array([' White', ' Black', ' Asian-Pac-Islander', ' Amer-Indian-Eskimo',\n",
              "       ' Other'], dtype=object)"
            ]
          },
          "metadata": {},
          "execution_count": 137
        }
      ]
    },
    {
      "cell_type": "code",
      "source": [
        "plt.figure(figsize=(12,6))\n",
        "order_list = [' White', ' Black', ' Asian-Pac-Islander', ' Amer-Indian-Eskimo',\n",
        "       ' Other']\n",
        "sns.countplot(df['race'], hue = df['yearly_wage'], palette='Blues_r', order= order_list)\n",
        "plt.title('Renda por raça', fontsize=18, fontweight='bold')"
      ],
      "metadata": {
        "colab": {
          "base_uri": "https://localhost:8080/",
          "height": 486
        },
        "id": "d7HNOqmp-Cwt",
        "outputId": "31057c55-19e1-4b8b-b14b-d86b3dc431a0"
      },
      "execution_count": null,
      "outputs": [
        {
          "output_type": "stream",
          "name": "stderr",
          "text": [
            "/usr/local/lib/python3.7/dist-packages/seaborn/_decorators.py:43: FutureWarning: Pass the following variable as a keyword arg: x. From version 0.12, the only valid positional argument will be `data`, and passing other arguments without an explicit keyword will result in an error or misinterpretation.\n",
            "  FutureWarning\n"
          ]
        },
        {
          "output_type": "execute_result",
          "data": {
            "text/plain": [
              "Text(0.5, 1.0, 'Renda por raça')"
            ]
          },
          "metadata": {},
          "execution_count": 139
        },
        {
          "output_type": "display_data",
          "data": {
            "text/plain": [
              "<Figure size 864x432 with 1 Axes>"
            ],
            "image/png": "[encoded data removed]"
          },
          "metadata": {}
        }
      ]
    },
    {
      "cell_type": "markdown",
      "source": [
        "\n",
        "\n",
        "\n",
        "\n",
        "*   Pessoas brancas tem maior proporção de quem ganha mais de 50k\n",
        "\n",
        "\n",
        "\n",
        "\n"
      ],
      "metadata": {
        "id": "dul68Lkd-PEY"
      }
    },
    {
      "cell_type": "markdown",
      "source": [
        "## País nativo"
      ],
      "metadata": {
        "id": "UOZro_vQ-gRb"
      }
    },
    {
      "cell_type": "code",
      "source": [
        "df[\"native_country\"].unique()"
      ],
      "metadata": {
        "colab": {
          "base_uri": "https://localhost:8080/"
        },
        "id": "qeh4Okd6_e94",
        "outputId": "b8e24be1-99e0-4ef8-f5df-f00a66ce9951"
      },
      "execution_count": null,
      "outputs": [
        {
          "output_type": "execute_result",
          "data": {
            "text/plain": [
              "array([' United-States', ' Cuba', ' Jamaica', ' India', ' ?', ' Mexico',\n",
              "       ' South', ' Puerto-Rico', ' Honduras', ' England', ' Canada',\n",
              "       ' Germany', ' Iran', ' Philippines', ' Italy', ' Poland',\n",
              "       ' Columbia', ' Cambodia', ' Thailand', ' Ecuador', ' Laos',\n",
              "       ' Taiwan', ' Haiti', ' Portugal', ' Dominican-Republic',\n",
              "       ' El-Salvador', ' France', ' Guatemala', ' China', ' Japan',\n",
              "       ' Yugoslavia', ' Peru', ' Outlying-US(Guam-USVI-etc)', ' Scotland',\n",
              "       ' Trinadad&Tobago', ' Greece', ' Nicaragua', ' Vietnam', ' Hong',\n",
              "       ' Ireland', ' Hungary', ' Holand-Netherlands'], dtype=object)"
            ]
          },
          "metadata": {},
          "execution_count": 140
        }
      ]
    },
    {
      "cell_type": "code",
      "source": [
        "def auxiliar(x):\n",
        "    if x ==' United-States':\n",
        "        return 'eua'\n",
        "    else:\n",
        "        return 'outros'\n",
        "\n",
        "df['native_country'] = df['native_country'].apply(auxiliar)\n",
        "df.head()"
      ],
      "metadata": {
        "colab": {
          "base_uri": "https://localhost:8080/",
          "height": 374
        },
        "id": "nHhR4FfrAMM6",
        "outputId": "781c66b2-163e-4923-9b9a-2041fa9965ec"
      },
      "execution_count": null,
      "outputs": [
        {
          "output_type": "execute_result",
          "data": {
            "text/plain": [
              "   Unnamed: 0  age          workclass  fnlwgt   education  education_num  \\\n",
              "0           0   50   Self-emp-not-inc   83311   Bachelors             13   \n",
              "1           1   38            Private  215646     HS-grad              9   \n",
              "2           2   53            Private  234721        11th              7   \n",
              "3           3   28            Private  338409   Bachelors             13   \n",
              "4           4   37            Private  284582     Masters             14   \n",
              "\n",
              "        marital_status          occupation    relationship    race      sex  \\\n",
              "0   Married-civ-spouse     Exec-managerial         Husband   White     Male   \n",
              "1             Divorced   Handlers-cleaners   Not-in-family   White     Male   \n",
              "2   Married-civ-spouse   Handlers-cleaners         Husband   Black     Male   \n",
              "3   Married-civ-spouse      Prof-specialty            Wife   Black   Female   \n",
              "4   Married-civ-spouse     Exec-managerial            Wife   White   Female   \n",
              "\n",
              "   capital_gain  capital_loss  hours_per_week native_country yearly_wage  \n",
              "0             0             0              13            eua       <=50K  \n",
              "1             0             0              40            eua       <=50K  \n",
              "2             0             0              40            eua       <=50K  \n",
              "3             0             0              40         outros       <=50K  \n",
              "4             0             0              40            eua       <=50K  "
            ],
            "text/html": [
              "\n",
              "  <div id=\"df-8043f1ff-d234-43a6-ac6d-15fe2611eb4f\">\n",
              "    <div class=\"colab-df-container\">\n",
              "      <div>\n",
              "<style scoped>\n",
              "    .dataframe tbody tr th:only-of-type {\n",
              "        vertical-align: middle;\n",
              "    }\n",
              "\n",
              "    .dataframe tbody tr th {\n",
              "        vertical-align: top;\n",
              "    }\n",
              "\n",
              "    .dataframe thead th {\n",
              "        text-align: right;\n",
              "    }\n",
              "</style>\n",
              "<table border=\"1\" class=\"dataframe\">\n",
              "  <thead>\n",
              "    <tr style=\"text-align: right;\">\n",
              "      <th></th>\n",
              "      <th>Unnamed: 0</th>\n",
              "      <th>age</th>\n",
              "      <th>workclass</th>\n",
              "      <th>fnlwgt</th>\n",
              "      <th>education</th>\n",
              "      <th>education_num</th>\n",
              "      <th>marital_status</th>\n",
              "      <th>occupation</th>\n",
              "      <th>relationship</th>\n",
              "      <th>race</th>\n",
              "      <th>sex</th>\n",
              "      <th>capital_gain</th>\n",
              "      <th>capital_loss</th>\n",
              "      <th>hours_per_week</th>\n",
              "      <th>native_country</th>\n",
              "      <th>yearly_wage</th>\n",
              "    </tr>\n",
              "  </thead>\n",
              "  <tbody>\n",
              "    <tr>\n",
              "      <th>0</th>\n",
              "      <td>0</td>\n",
              "      <td>50</td>\n",
              "      <td>Self-emp-not-inc</td>\n",
              "      <td>83311</td>\n",
              "      <td>Bachelors</td>\n",
              "      <td>13</td>\n",
              "      <td>Married-civ-spouse</td>\n",
              "      <td>Exec-managerial</td>\n",
              "      <td>Husband</td>\n",
              "      <td>White</td>\n",
              "      <td>Male</td>\n",
              "      <td>0</td>\n",
              "      <td>0</td>\n",
              "      <td>13</td>\n",
              "      <td>eua</td>\n",
              "      <td>&lt;=50K</td>\n",
              "    </tr>\n",
              "    <tr>\n",
              "      <th>1</th>\n",
              "      <td>1</td>\n",
              "      <td>38</td>\n",
              "      <td>Private</td>\n",
              "      <td>215646</td>\n",
              "      <td>HS-grad</td>\n",
              "      <td>9</td>\n",
              "      <td>Divorced</td>\n",
              "      <td>Handlers-cleaners</td>\n",
              "      <td>Not-in-family</td>\n",
              "      <td>White</td>\n",
              "      <td>Male</td>\n",
              "      <td>0</td>\n",
              "      <td>0</td>\n",
              "      <td>40</td>\n",
              "      <td>eua</td>\n",
              "      <td>&lt;=50K</td>\n",
              "    </tr>\n",
              "    <tr>\n",
              "      <th>2</th>\n",
              "      <td>2</td>\n",
              "      <td>53</td>\n",
              "      <td>Private</td>\n",
              "      <td>234721</td>\n",
              "      <td>11th</td>\n",
              "      <td>7</td>\n",
              "      <td>Married-civ-spouse</td>\n",
              "      <td>Handlers-cleaners</td>\n",
              "      <td>Husband</td>\n",
              "      <td>Black</td>\n",
              "      <td>Male</td>\n",
              "      <td>0</td>\n",
              "      <td>0</td>\n",
              "      <td>40</td>\n",
              "      <td>eua</td>\n",
              "      <td>&lt;=50K</td>\n",
              "    </tr>\n",
              "    <tr>\n",
              "      <th>3</th>\n",
              "      <td>3</td>\n",
              "      <td>28</td>\n",
              "      <td>Private</td>\n",
              "      <td>338409</td>\n",
              "      <td>Bachelors</td>\n",
              "      <td>13</td>\n",
              "      <td>Married-civ-spouse</td>\n",
              "      <td>Prof-specialty</td>\n",
              "      <td>Wife</td>\n",
              "      <td>Black</td>\n",
              "      <td>Female</td>\n",
              "      <td>0</td>\n",
              "      <td>0</td>\n",
              "      <td>40</td>\n",
              "      <td>outros</td>\n",
              "      <td>&lt;=50K</td>\n",
              "    </tr>\n",
              "    <tr>\n",
              "      <th>4</th>\n",
              "      <td>4</td>\n",
              "      <td>37</td>\n",
              "      <td>Private</td>\n",
              "      <td>284582</td>\n",
              "      <td>Masters</td>\n",
              "      <td>14</td>\n",
              "      <td>Married-civ-spouse</td>\n",
              "      <td>Exec-managerial</td>\n",
              "      <td>Wife</td>\n",
              "      <td>White</td>\n",
              "      <td>Female</td>\n",
              "      <td>0</td>\n",
              "      <td>0</td>\n",
              "      <td>40</td>\n",
              "      <td>eua</td>\n",
              "      <td>&lt;=50K</td>\n",
              "    </tr>\n",
              "  </tbody>\n",
              "</table>\n",
              "</div>\n",
              "      <button class=\"colab-df-convert\" onclick=\"convertToInteractive('df-8043f1ff-d234-43a6-ac6d-15fe2611eb4f')\"\n",
              "              title=\"Convert this dataframe to an interactive table.\"\n",
              "              style=\"display:none;\">\n",
              "        \n",
              "  <svg xmlns=\"http://www.w3.org/2000/svg\" height=\"24px\"viewBox=\"0 0 24 24\"\n",
              "       width=\"24px\">\n",
              "    <path d=\"M0 0h24v24H0V0z\" fill=\"none\"/>\n",
              "    <path d=\"M18.56 5.44l.94 2.06.94-2.06 2.06-.94-2.06-.94-.94-2.06-.94 2.06-2.06.94zm-11 1L8.5 8.5l.94-2.06 2.06-.94-2.06-.94L8.5 2.5l-.94 2.06-2.06.94zm10 10l.94 2.06.94-2.06 2.06-.94-2.06-.94-.94-2.06-.94 2.06-2.06.94z\"/><path d=\"M17.41 7.96l-1.37-1.37c-.4-.4-.92-.59-1.43-.59-.52 0-1.04.2-1.43.59L10.3 9.45l-7.72 7.72c-.78.78-.78 2.05 0 2.83L4 21.41c.39.39.9.59 1.41.59.51 0 1.02-.2 1.41-.59l7.78-7.78 2.81-2.81c.8-.78.8-2.07 0-2.86zM5.41 20L4 18.59l7.72-7.72 1.47 1.35L5.41 20z\"/>\n",
              "  </svg>\n",
              "      </button>\n",
              "      \n",
              "  <style>\n",
              "    .colab-df-container {\n",
              "      display:flex;\n",
              "      flex-wrap:wrap;\n",
              "      gap: 12px;\n",
              "    }\n",
              "\n",
              "    .colab-df-convert {\n",
              "      background-color: #E8F0FE;\n",
              "      border: none;\n",
              "      border-radius: 50%;\n",
              "      cursor: pointer;\n",
              "      display: none;\n",
              "      fill: #1967D2;\n",
              "      height: 32px;\n",
              "      padding: 0 0 0 0;\n",
              "      width: 32px;\n",
              "    }\n",
              "\n",
              "    .colab-df-convert:hover {\n",
              "      background-color: #E2EBFA;\n",
              "      box-shadow: 0px 1px 2px rgba(60, 64, 67, 0.3), 0px 1px 3px 1px rgba(60, 64, 67, 0.15);\n",
              "      fill: #174EA6;\n",
              "    }\n",
              "\n",
              "    [theme=dark] .colab-df-convert {\n",
              "      background-color: #3B4455;\n",
              "      fill: #D2E3FC;\n",
              "    }\n",
              "\n",
              "    [theme=dark] .colab-df-convert:hover {\n",
              "      background-color: #434B5C;\n",
              "      box-shadow: 0px 1px 3px 1px rgba(0, 0, 0, 0.15);\n",
              "      filter: drop-shadow(0px 1px 2px rgba(0, 0, 0, 0.3));\n",
              "      fill: #FFFFFF;\n",
              "    }\n",
              "  </style>\n",
              "\n",
              "      <script>\n",
              "        const buttonEl =\n",
              "          document.querySelector('#df-8043f1ff-d234-43a6-ac6d-15fe2611eb4f button.colab-df-convert');\n",
              "        buttonEl.style.display =\n",
              "          google.colab.kernel.accessAllowed ? 'block' : 'none';\n",
              "\n",
              "        async function convertToInteractive(key) {\n",
              "          const element = document.querySelector('#df-8043f1ff-d234-43a6-ac6d-15fe2611eb4f');\n",
              "          const dataTable =\n",
              "            await google.colab.kernel.invokeFunction('convertToInteractive',\n",
              "                                                     [key], {});\n",
              "          if (!dataTable) return;\n",
              "\n",
              "          const docLinkHtml = 'Like what you see? Visit the ' +\n",
              "            '<a target=\"_blank\" href=https://colab.research.google.com/notebooks/data_table.ipynb>data table notebook</a>'\n",
              "            + ' to learn more about interactive tables.';\n",
              "          element.innerHTML = '';\n",
              "          dataTable['output_type'] = 'display_data';\n",
              "          await google.colab.output.renderOutput(dataTable, element);\n",
              "          const docLink = document.createElement('div');\n",
              "          docLink.innerHTML = docLinkHtml;\n",
              "          element.appendChild(docLink);\n",
              "        }\n",
              "      </script>\n",
              "    </div>\n",
              "  </div>\n",
              "  "
            ]
          },
          "metadata": {},
          "execution_count": 155
        }
      ]
    },
    {
      "cell_type": "code",
      "source": [
        "plt.figure(figsize=(12,6))\n",
        "order_list = ['eua', 'outros']\n",
        "sns.countplot(df['native_country'], hue = df['yearly_wage'], palette='Blues_r', order= order_list)\n",
        "plt.title('Renda por país', fontsize=18, fontweight='bold')"
      ],
      "metadata": {
        "colab": {
          "base_uri": "https://localhost:8080/",
          "height": 486
        },
        "id": "mfvyl9Q-C49i",
        "outputId": "d22e20de-78b2-406d-f50c-8a4f824ebf54"
      },
      "execution_count": null,
      "outputs": [
        {
          "output_type": "stream",
          "name": "stderr",
          "text": [
            "/usr/local/lib/python3.7/dist-packages/seaborn/_decorators.py:43: FutureWarning: Pass the following variable as a keyword arg: x. From version 0.12, the only valid positional argument will be `data`, and passing other arguments without an explicit keyword will result in an error or misinterpretation.\n",
            "  FutureWarning\n"
          ]
        },
        {
          "output_type": "execute_result",
          "data": {
            "text/plain": [
              "Text(0.5, 1.0, 'Renda por país')"
            ]
          },
          "metadata": {},
          "execution_count": 156
        },
        {
          "output_type": "display_data",
          "data": {
            "text/plain": [
              "<Figure size 864x432 with 1 Axes>"
            ],
            "image/png": "[encoded data removed]"
          },
          "metadata": {}
        }
      ]
    },
    {
      "cell_type": "markdown",
      "source": [
        "\n",
        "\n",
        "*   Tem muitos países alguns com algunas unidades na base, como a base é Americana a coluna terá dois valores, se a pessoa é nativa do EUA ou não\n",
        "*   Pessoas do EUA tem maior proporção de quem ganha mais de 50k comparado com outros países, como a base é do EUA, outros países são imigrantes, esperado que imigrantes ganhem menos do que nativos\n",
        "\n",
        "\n",
        "\n"
      ],
      "metadata": {
        "id": "r25FG0NhDMWg"
      }
    },
    {
      "cell_type": "markdown",
      "source": [
        "## Horas por semana"
      ],
      "metadata": {
        "id": "j8H2qccQD9n6"
      }
    },
    {
      "cell_type": "code",
      "source": [
        "df[\"hours_per_week\"].unique()"
      ],
      "metadata": {
        "colab": {
          "base_uri": "https://localhost:8080/"
        },
        "id": "DS6lJLgGEEYg",
        "outputId": "49d00fe5-61a5-4b14-bf49-dc45a1aa3aa7"
      },
      "execution_count": null,
      "outputs": [
        {
          "output_type": "execute_result",
          "data": {
            "text/plain": [
              "array([13, 40, 16, 45, 50, 80, 30, 35, 60, 20, 52, 44, 15, 25, 38, 43, 55,\n",
              "       48, 58, 32, 70,  2, 22, 56, 41, 28, 36, 24, 46, 42, 12, 65,  1, 10,\n",
              "       34, 75, 98, 33, 54,  8,  6, 64, 19, 18, 72,  5,  9, 47, 37, 21, 26,\n",
              "       14,  4, 59,  7, 99, 53, 39, 62, 57, 78, 90, 66, 11, 49, 84,  3, 17,\n",
              "       68, 27, 85, 31, 51, 77, 63, 23, 87, 88, 73, 89, 97, 94, 29, 96, 67,\n",
              "       82, 86, 91, 81, 76, 92, 61, 74, 95])"
            ]
          },
          "metadata": {},
          "execution_count": 158
        }
      ]
    },
    {
      "cell_type": "code",
      "source": [
        "df[\"hours_per_week\"].describe()"
      ],
      "metadata": {
        "colab": {
          "base_uri": "https://localhost:8080/"
        },
        "id": "2KmEMK_zEVSu",
        "outputId": "9c020ec3-26de-4c6e-f187-9322cb2974f6"
      },
      "execution_count": null,
      "outputs": [
        {
          "output_type": "execute_result",
          "data": {
            "text/plain": [
              "count    32560.000000\n",
              "mean        40.437469\n",
              "std         12.347618\n",
              "min          1.000000\n",
              "25%         40.000000\n",
              "50%         40.000000\n",
              "75%         45.000000\n",
              "max         99.000000\n",
              "Name: hours_per_week, dtype: float64"
            ]
          },
          "metadata": {},
          "execution_count": 162
        }
      ]
    },
    {
      "cell_type": "code",
      "source": [
        "sns.set_theme(style=\"darkgrid\")\n",
        "plt.figure(figsize = (8,5))\n",
        "plt.title('Boxplot de horas de trabalho por semana', fontsize=18, fontweight='bold')\n",
        "ax = sns.boxplot(x=df[\"hours_per_week\"],palette='Blues_r')\n",
        "ax.set(xlabel='Horas')"
      ],
      "metadata": {
        "colab": {
          "base_uri": "https://localhost:8080/",
          "height": 376
        },
        "id": "ZtWWzTe-Ebx-",
        "outputId": "e67f4e30-2f29-4ceb-c24b-6b38008c2bde"
      },
      "execution_count": null,
      "outputs": [
        {
          "output_type": "execute_result",
          "data": {
            "text/plain": [
              "[Text(0.5, 0, 'Horas')]"
            ]
          },
          "metadata": {},
          "execution_count": 161
        },
        {
          "output_type": "display_data",
          "data": {
            "text/plain": [
              "<Figure size 576x360 with 1 Axes>"
            ],
            "image/png": "[encoded data removed]"
          },
          "metadata": {}
        }
      ]
    },
    {
      "cell_type": "markdown",
      "source": [
        "\n",
        "\n",
        "*   Mediana é 40 é a média é 40,43\n",
        "*   O primeiro quartil está em 25 e o terceiro em 45\n",
        "*   Mínimo é 1. Máximo é 99\n",
        "*   A disperção é muito grande\n",
        "\n"
      ],
      "metadata": {
        "id": "Lre1DFHUFUkC"
      }
    },
    {
      "cell_type": "markdown",
      "source": [
        "## Ganhos e perda de capital"
      ],
      "metadata": {
        "id": "SYoMcWyPGjUk"
      }
    },
    {
      "cell_type": "code",
      "source": [
        "df[\"capital_gain\"].unique()"
      ],
      "metadata": {
        "colab": {
          "base_uri": "https://localhost:8080/"
        },
        "id": "KaZYTKs3GmV5",
        "outputId": "ce707345-e8b4-4c20-e207-c9a75845caaf"
      },
      "execution_count": null,
      "outputs": [
        {
          "output_type": "execute_result",
          "data": {
            "text/plain": [
              "array([    0, 14084,  5178,  5013,  2407, 14344, 15024,  7688, 34095,\n",
              "        4064,  4386,  7298,  1409,  3674,  1055,  3464,  2050,  2176,\n",
              "        2174,   594, 20051,  6849,  4101,  1111,  8614,  3411,  2597,\n",
              "       25236,  4650,  9386,  2463,  3103, 10605,  2964,  3325,  2580,\n",
              "        3471,  4865, 99999,  6514,  1471,  2329,  2105,  2885, 25124,\n",
              "       10520,  2202,  2961, 27828,  6767,  2228,  1506, 13550,  2635,\n",
              "        5556,  4787,  3781,  3137,  3818,  3942,   914,   401,  2829,\n",
              "        2977,  4934,  2062,  2354,  5455, 15020,  1424,  3273, 22040,\n",
              "        4416,  3908, 10566,   991,  4931,  1086,  7430,  6497,   114,\n",
              "        7896,  2346,  3418,  3432,  2907,  1151,  2414,  2290, 15831,\n",
              "       41310,  4508,  2538,  3456,  6418,  1848,  3887,  5721,  9562,\n",
              "        1455,  2036,  1831, 11678,  2936,  2993,  7443,  6360,  1797,\n",
              "        1173,  4687,  6723,  2009,  6097,  2653,  1639, 18481,  7978,\n",
              "        2387,  5060])"
            ]
          },
          "metadata": {},
          "execution_count": 163
        }
      ]
    },
    {
      "cell_type": "code",
      "source": [
        "df[\"capital_gain\"].value_counts()"
      ],
      "metadata": {
        "colab": {
          "base_uri": "https://localhost:8080/"
        },
        "id": "iIukiBNmHkpT",
        "outputId": "148780c7-3ba3-4fec-ffb2-19aed8f9c45e"
      },
      "execution_count": null,
      "outputs": [
        {
          "output_type": "execute_result",
          "data": {
            "text/plain": [
              "0        29849\n",
              "15024      347\n",
              "7688       284\n",
              "7298       246\n",
              "99999      159\n",
              "         ...  \n",
              "1111         1\n",
              "2538         1\n",
              "22040        1\n",
              "4931         1\n",
              "5060         1\n",
              "Name: capital_gain, Length: 119, dtype: int64"
            ]
          },
          "metadata": {},
          "execution_count": 167
        }
      ]
    },
    {
      "cell_type": "code",
      "source": [
        "sns.set_theme(style=\"darkgrid\")\n",
        "plt.figure(figsize = (8,5))\n",
        "plt.title('Boxplot de horas de trabalho por semana', fontsize=18, fontweight='bold')\n",
        "ax = sns.boxplot(x=df[\"capital_gain\"],palette='Blues_r')\n",
        "ax.set(xlabel='ganhos de capital')"
      ],
      "metadata": {
        "colab": {
          "base_uri": "https://localhost:8080/",
          "height": 376
        },
        "id": "1cNq6oPjG2Vm",
        "outputId": "7dc485dc-d005-49a1-8737-6b2be81a7a85"
      },
      "execution_count": null,
      "outputs": [
        {
          "output_type": "execute_result",
          "data": {
            "text/plain": [
              "[Text(0.5, 0, 'ganhos de capital')]"
            ]
          },
          "metadata": {},
          "execution_count": 165
        },
        {
          "output_type": "display_data",
          "data": {
            "text/plain": [
              "<Figure size 576x360 with 1 Axes>"
            ],
            "image/png": "[encoded data removed]"
          },
          "metadata": {}
        }
      ]
    },
    {
      "cell_type": "code",
      "source": [
        "df[\"capital_loss\"].unique()"
      ],
      "metadata": {
        "colab": {
          "base_uri": "https://localhost:8080/"
        },
        "id": "U_g2riN-Gv77",
        "outputId": "a4f46c8e-ca9b-4d42-ac33-fa2521f272a2"
      },
      "execution_count": null,
      "outputs": [
        {
          "output_type": "execute_result",
          "data": {
            "text/plain": [
              "array([   0, 2042, 1408, 1902, 1573, 1887, 1719, 1762, 1564, 2179, 1816,\n",
              "       1980, 1977, 1876, 1340, 2206, 1741, 1485, 2339, 2415, 1380, 1721,\n",
              "       2051, 2377, 1669, 2352, 1672,  653, 2392, 1504, 2001, 1590, 1651,\n",
              "       1628, 1848, 1740, 2002, 1579, 2258, 1602,  419, 2547, 2174, 2205,\n",
              "       1726, 2444, 1138, 2238,  625,  213, 1539,  880, 1668, 1092, 1594,\n",
              "       3004, 2231, 1844,  810, 2824, 2559, 2057, 1974,  974, 2149, 1825,\n",
              "       1735, 1258, 2129, 2603, 2282,  323, 4356, 2246, 1617, 1648, 2489,\n",
              "       3770, 1755, 3683, 2267, 2080, 2457,  155, 3900, 2201, 1944, 2467,\n",
              "       2163, 2754, 2472, 1411])"
            ]
          },
          "metadata": {},
          "execution_count": 164
        }
      ]
    },
    {
      "cell_type": "code",
      "source": [
        "df[\"capital_loss\"].value_counts()"
      ],
      "metadata": {
        "colab": {
          "base_uri": "https://localhost:8080/"
        },
        "id": "mVPTHrGyHqig",
        "outputId": "d9211269-933b-4f5f-bbbd-2bd6ea55cc71"
      },
      "execution_count": null,
      "outputs": [
        {
          "output_type": "execute_result",
          "data": {
            "text/plain": [
              "0       31041\n",
              "1902      202\n",
              "1977      168\n",
              "1887      159\n",
              "1848       51\n",
              "        ...  \n",
              "2080        1\n",
              "1539        1\n",
              "1844        1\n",
              "2489        1\n",
              "1411        1\n",
              "Name: capital_loss, Length: 92, dtype: int64"
            ]
          },
          "metadata": {},
          "execution_count": 168
        }
      ]
    },
    {
      "cell_type": "code",
      "source": [
        "sns.set_theme(style=\"darkgrid\")\n",
        "plt.figure(figsize = (8,5))\n",
        "plt.title('Boxplot de horas de trabalho por semana', fontsize=18, fontweight='bold')\n",
        "ax = sns.boxplot(x=df[\"capital_loss\"],palette='Blues_r')\n",
        "ax.set(xlabel='perda de capital')"
      ],
      "metadata": {
        "colab": {
          "base_uri": "https://localhost:8080/",
          "height": 376
        },
        "id": "ZW4_Gqo-G9w5",
        "outputId": "d5928aad-0ec5-4e39-a0f4-d240ee0c6bac"
      },
      "execution_count": null,
      "outputs": [
        {
          "output_type": "execute_result",
          "data": {
            "text/plain": [
              "[Text(0.5, 0, 'ganhos de capital')]"
            ]
          },
          "metadata": {},
          "execution_count": 166
        },
        {
          "output_type": "display_data",
          "data": {
            "text/plain": [
              "<Figure size 576x360 with 1 Axes>"
            ],
            "image/png": "[encoded data removed]"
          },
          "metadata": {}
        }
      ]
    },
    {
      "cell_type": "markdown",
      "source": [
        "\n",
        "\n",
        "\n",
        "*   Ganhos e perda de capital tem grande disperção\n",
        "*   As duas tem características de ter valores 0 e maior que zero\n",
        "*   Pode ser criado uma váriavel do tipo dummy, se a pessoa tem perda/ganho de capital ou não, para ajustar no modelo\n",
        "\n",
        "\n",
        "\n",
        "\n",
        "\n",
        "\n",
        "\n",
        "\n"
      ],
      "metadata": {
        "id": "PLJhDnEJHNGC"
      }
    },
    {
      "cell_type": "markdown",
      "source": [
        "## Correlação "
      ],
      "metadata": {
        "id": "Mjeg_yh_HzcT"
      }
    },
    {
      "cell_type": "code",
      "source": [
        "df = pd.read_csv(\"/content/wage_train.csv\")\n",
        "df.head()"
      ],
      "metadata": {
        "colab": {
          "base_uri": "https://localhost:8080/",
          "height": 374
        },
        "id": "bB61RvOvH3dT",
        "outputId": "8fae2fa3-f910-4ba1-cbc6-8eb5f9b1d35b"
      },
      "execution_count": null,
      "outputs": [
        {
          "output_type": "execute_result",
          "data": {
            "text/plain": [
              "   Unnamed: 0  age          workclass  fnlwgt   education  education_num  \\\n",
              "0           0   50   Self-emp-not-inc   83311   Bachelors             13   \n",
              "1           1   38            Private  215646     HS-grad              9   \n",
              "2           2   53            Private  234721        11th              7   \n",
              "3           3   28            Private  338409   Bachelors             13   \n",
              "4           4   37            Private  284582     Masters             14   \n",
              "\n",
              "        marital_status          occupation    relationship    race      sex  \\\n",
              "0   Married-civ-spouse     Exec-managerial         Husband   White     Male   \n",
              "1             Divorced   Handlers-cleaners   Not-in-family   White     Male   \n",
              "2   Married-civ-spouse   Handlers-cleaners         Husband   Black     Male   \n",
              "3   Married-civ-spouse      Prof-specialty            Wife   Black   Female   \n",
              "4   Married-civ-spouse     Exec-managerial            Wife   White   Female   \n",
              "\n",
              "   capital_gain  capital_loss  hours_per_week  native_country yearly_wage  \n",
              "0             0             0              13   United-States       <=50K  \n",
              "1             0             0              40   United-States       <=50K  \n",
              "2             0             0              40   United-States       <=50K  \n",
              "3             0             0              40            Cuba       <=50K  \n",
              "4             0             0              40   United-States       <=50K  "
            ],
            "text/html": [
              "\n",
              "  <div id=\"df-5e368c9e-f486-405b-9dce-b601fb24600d\">\n",
              "    <div class=\"colab-df-container\">\n",
              "      <div>\n",
              "<style scoped>\n",
              "    .dataframe tbody tr th:only-of-type {\n",
              "        vertical-align: middle;\n",
              "    }\n",
              "\n",
              "    .dataframe tbody tr th {\n",
              "        vertical-align: top;\n",
              "    }\n",
              "\n",
              "    .dataframe thead th {\n",
              "        text-align: right;\n",
              "    }\n",
              "</style>\n",
              "<table border=\"1\" class=\"dataframe\">\n",
              "  <thead>\n",
              "    <tr style=\"text-align: right;\">\n",
              "      <th></th>\n",
              "      <th>Unnamed: 0</th>\n",
              "      <th>age</th>\n",
              "      <th>workclass</th>\n",
              "      <th>fnlwgt</th>\n",
              "      <th>education</th>\n",
              "      <th>education_num</th>\n",
              "      <th>marital_status</th>\n",
              "      <th>occupation</th>\n",
              "      <th>relationship</th>\n",
              "      <th>race</th>\n",
              "      <th>sex</th>\n",
              "      <th>capital_gain</th>\n",
              "      <th>capital_loss</th>\n",
              "      <th>hours_per_week</th>\n",
              "      <th>native_country</th>\n",
              "      <th>yearly_wage</th>\n",
              "    </tr>\n",
              "  </thead>\n",
              "  <tbody>\n",
              "    <tr>\n",
              "      <th>0</th>\n",
              "      <td>0</td>\n",
              "      <td>50</td>\n",
              "      <td>Self-emp-not-inc</td>\n",
              "      <td>83311</td>\n",
              "      <td>Bachelors</td>\n",
              "      <td>13</td>\n",
              "      <td>Married-civ-spouse</td>\n",
              "      <td>Exec-managerial</td>\n",
              "      <td>Husband</td>\n",
              "      <td>White</td>\n",
              "      <td>Male</td>\n",
              "      <td>0</td>\n",
              "      <td>0</td>\n",
              "      <td>13</td>\n",
              "      <td>United-States</td>\n",
              "      <td>&lt;=50K</td>\n",
              "    </tr>\n",
              "    <tr>\n",
              "      <th>1</th>\n",
              "      <td>1</td>\n",
              "      <td>38</td>\n",
              "      <td>Private</td>\n",
              "      <td>215646</td>\n",
              "      <td>HS-grad</td>\n",
              "      <td>9</td>\n",
              "      <td>Divorced</td>\n",
              "      <td>Handlers-cleaners</td>\n",
              "      <td>Not-in-family</td>\n",
              "      <td>White</td>\n",
              "      <td>Male</td>\n",
              "      <td>0</td>\n",
              "      <td>0</td>\n",
              "      <td>40</td>\n",
              "      <td>United-States</td>\n",
              "      <td>&lt;=50K</td>\n",
              "    </tr>\n",
              "    <tr>\n",
              "      <th>2</th>\n",
              "      <td>2</td>\n",
              "      <td>53</td>\n",
              "      <td>Private</td>\n",
              "      <td>234721</td>\n",
              "      <td>11th</td>\n",
              "      <td>7</td>\n",
              "      <td>Married-civ-spouse</td>\n",
              "      <td>Handlers-cleaners</td>\n",
              "      <td>Husband</td>\n",
              "      <td>Black</td>\n",
              "      <td>Male</td>\n",
              "      <td>0</td>\n",
              "      <td>0</td>\n",
              "      <td>40</td>\n",
              "      <td>United-States</td>\n",
              "      <td>&lt;=50K</td>\n",
              "    </tr>\n",
              "    <tr>\n",
              "      <th>3</th>\n",
              "      <td>3</td>\n",
              "      <td>28</td>\n",
              "      <td>Private</td>\n",
              "      <td>338409</td>\n",
              "      <td>Bachelors</td>\n",
              "      <td>13</td>\n",
              "      <td>Married-civ-spouse</td>\n",
              "      <td>Prof-specialty</td>\n",
              "      <td>Wife</td>\n",
              "      <td>Black</td>\n",
              "      <td>Female</td>\n",
              "      <td>0</td>\n",
              "      <td>0</td>\n",
              "      <td>40</td>\n",
              "      <td>Cuba</td>\n",
              "      <td>&lt;=50K</td>\n",
              "    </tr>\n",
              "    <tr>\n",
              "      <th>4</th>\n",
              "      <td>4</td>\n",
              "      <td>37</td>\n",
              "      <td>Private</td>\n",
              "      <td>284582</td>\n",
              "      <td>Masters</td>\n",
              "      <td>14</td>\n",
              "      <td>Married-civ-spouse</td>\n",
              "      <td>Exec-managerial</td>\n",
              "      <td>Wife</td>\n",
              "      <td>White</td>\n",
              "      <td>Female</td>\n",
              "      <td>0</td>\n",
              "      <td>0</td>\n",
              "      <td>40</td>\n",
              "      <td>United-States</td>\n",
              "      <td>&lt;=50K</td>\n",
              "    </tr>\n",
              "  </tbody>\n",
              "</table>\n",
              "</div>\n",
              "      <button class=\"colab-df-convert\" onclick=\"convertToInteractive('df-5e368c9e-f486-405b-9dce-b601fb24600d')\"\n",
              "              title=\"Convert this dataframe to an interactive table.\"\n",
              "              style=\"display:none;\">\n",
              "        \n",
              "  <svg xmlns=\"http://www.w3.org/2000/svg\" height=\"24px\"viewBox=\"0 0 24 24\"\n",
              "       width=\"24px\">\n",
              "    <path d=\"M0 0h24v24H0V0z\" fill=\"none\"/>\n",
              "    <path d=\"M18.56 5.44l.94 2.06.94-2.06 2.06-.94-2.06-.94-.94-2.06-.94 2.06-2.06.94zm-11 1L8.5 8.5l.94-2.06 2.06-.94-2.06-.94L8.5 2.5l-.94 2.06-2.06.94zm10 10l.94 2.06.94-2.06 2.06-.94-2.06-.94-.94-2.06-.94 2.06-2.06.94z\"/><path d=\"M17.41 7.96l-1.37-1.37c-.4-.4-.92-.59-1.43-.59-.52 0-1.04.2-1.43.59L10.3 9.45l-7.72 7.72c-.78.78-.78 2.05 0 2.83L4 21.41c.39.39.9.59 1.41.59.51 0 1.02-.2 1.41-.59l7.78-7.78 2.81-2.81c.8-.78.8-2.07 0-2.86zM5.41 20L4 18.59l7.72-7.72 1.47 1.35L5.41 20z\"/>\n",
              "  </svg>\n",
              "      </button>\n",
              "      \n",
              "  <style>\n",
              "    .colab-df-container {\n",
              "      display:flex;\n",
              "      flex-wrap:wrap;\n",
              "      gap: 12px;\n",
              "    }\n",
              "\n",
              "    .colab-df-convert {\n",
              "      background-color: #E8F0FE;\n",
              "      border: none;\n",
              "      border-radius: 50%;\n",
              "      cursor: pointer;\n",
              "      display: none;\n",
              "      fill: #1967D2;\n",
              "      height: 32px;\n",
              "      padding: 0 0 0 0;\n",
              "      width: 32px;\n",
              "    }\n",
              "\n",
              "    .colab-df-convert:hover {\n",
              "      background-color: #E2EBFA;\n",
              "      box-shadow: 0px 1px 2px rgba(60, 64, 67, 0.3), 0px 1px 3px 1px rgba(60, 64, 67, 0.15);\n",
              "      fill: #174EA6;\n",
              "    }\n",
              "\n",
              "    [theme=dark] .colab-df-convert {\n",
              "      background-color: #3B4455;\n",
              "      fill: #D2E3FC;\n",
              "    }\n",
              "\n",
              "    [theme=dark] .colab-df-convert:hover {\n",
              "      background-color: #434B5C;\n",
              "      box-shadow: 0px 1px 3px 1px rgba(0, 0, 0, 0.15);\n",
              "      filter: drop-shadow(0px 1px 2px rgba(0, 0, 0, 0.3));\n",
              "      fill: #FFFFFF;\n",
              "    }\n",
              "  </style>\n",
              "\n",
              "      <script>\n",
              "        const buttonEl =\n",
              "          document.querySelector('#df-5e368c9e-f486-405b-9dce-b601fb24600d button.colab-df-convert');\n",
              "        buttonEl.style.display =\n",
              "          google.colab.kernel.accessAllowed ? 'block' : 'none';\n",
              "\n",
              "        async function convertToInteractive(key) {\n",
              "          const element = document.querySelector('#df-5e368c9e-f486-405b-9dce-b601fb24600d');\n",
              "          const dataTable =\n",
              "            await google.colab.kernel.invokeFunction('convertToInteractive',\n",
              "                                                     [key], {});\n",
              "          if (!dataTable) return;\n",
              "\n",
              "          const docLinkHtml = 'Like what you see? Visit the ' +\n",
              "            '<a target=\"_blank\" href=https://colab.research.google.com/notebooks/data_table.ipynb>data table notebook</a>'\n",
              "            + ' to learn more about interactive tables.';\n",
              "          element.innerHTML = '';\n",
              "          dataTable['output_type'] = 'display_data';\n",
              "          await google.colab.output.renderOutput(dataTable, element);\n",
              "          const docLink = document.createElement('div');\n",
              "          docLink.innerHTML = docLinkHtml;\n",
              "          element.appendChild(docLink);\n",
              "        }\n",
              "      </script>\n",
              "    </div>\n",
              "  </div>\n",
              "  "
            ]
          },
          "metadata": {},
          "execution_count": 169
        }
      ]
    },
    {
      "cell_type": "code",
      "source": [
        "df.corr(method ='pearson')"
      ],
      "metadata": {
        "colab": {
          "base_uri": "https://localhost:8080/",
          "height": 269
        },
        "id": "_V_IbrTAJIJR",
        "outputId": "934074d3-ce58-42d4-ec0a-d6e8a497da6a"
      },
      "execution_count": null,
      "outputs": [
        {
          "output_type": "execute_result",
          "data": {
            "text/plain": [
              "                Unnamed: 0       age    fnlwgt  education_num  capital_gain  \\\n",
              "Unnamed: 0        1.000000  0.001288 -0.003210      -0.001019      0.001680   \n",
              "age               0.001288  1.000000 -0.076646       0.036527      0.077674   \n",
              "fnlwgt           -0.003210 -0.076646  1.000000      -0.043159      0.000437   \n",
              "education_num    -0.001019  0.036527 -0.043159       1.000000      0.122627   \n",
              "capital_gain      0.001680  0.077674  0.000437       0.122627      1.000000   \n",
              "capital_loss     -0.001200  0.057775 -0.010259       0.079932     -0.031614   \n",
              "hours_per_week    0.000605  0.068756 -0.018770       0.148127      0.078409   \n",
              "\n",
              "                capital_loss  hours_per_week  \n",
              "Unnamed: 0         -0.001200        0.000605  \n",
              "age                 0.057775        0.068756  \n",
              "fnlwgt             -0.010259       -0.018770  \n",
              "education_num       0.079932        0.148127  \n",
              "capital_gain       -0.031614        0.078409  \n",
              "capital_loss        1.000000        0.054256  \n",
              "hours_per_week      0.054256        1.000000  "
            ],
            "text/html": [
              "\n",
              "  <div id=\"df-5425dd23-5878-4991-b9ac-fdfb576ac941\">\n",
              "    <div class=\"colab-df-container\">\n",
              "      <div>\n",
              "<style scoped>\n",
              "    .dataframe tbody tr th:only-of-type {\n",
              "        vertical-align: middle;\n",
              "    }\n",
              "\n",
              "    .dataframe tbody tr th {\n",
              "        vertical-align: top;\n",
              "    }\n",
              "\n",
              "    .dataframe thead th {\n",
              "        text-align: right;\n",
              "    }\n",
              "</style>\n",
              "<table border=\"1\" class=\"dataframe\">\n",
              "  <thead>\n",
              "    <tr style=\"text-align: right;\">\n",
              "      <th></th>\n",
              "      <th>Unnamed: 0</th>\n",
              "      <th>age</th>\n",
              "      <th>fnlwgt</th>\n",
              "      <th>education_num</th>\n",
              "      <th>capital_gain</th>\n",
              "      <th>capital_loss</th>\n",
              "      <th>hours_per_week</th>\n",
              "    </tr>\n",
              "  </thead>\n",
              "  <tbody>\n",
              "    <tr>\n",
              "      <th>Unnamed: 0</th>\n",
              "      <td>1.000000</td>\n",
              "      <td>0.001288</td>\n",
              "      <td>-0.003210</td>\n",
              "      <td>-0.001019</td>\n",
              "      <td>0.001680</td>\n",
              "      <td>-0.001200</td>\n",
              "      <td>0.000605</td>\n",
              "    </tr>\n",
              "    <tr>\n",
              "      <th>age</th>\n",
              "      <td>0.001288</td>\n",
              "      <td>1.000000</td>\n",
              "      <td>-0.076646</td>\n",
              "      <td>0.036527</td>\n",
              "      <td>0.077674</td>\n",
              "      <td>0.057775</td>\n",
              "      <td>0.068756</td>\n",
              "    </tr>\n",
              "    <tr>\n",
              "      <th>fnlwgt</th>\n",
              "      <td>-0.003210</td>\n",
              "      <td>-0.076646</td>\n",
              "      <td>1.000000</td>\n",
              "      <td>-0.043159</td>\n",
              "      <td>0.000437</td>\n",
              "      <td>-0.010259</td>\n",
              "      <td>-0.018770</td>\n",
              "    </tr>\n",
              "    <tr>\n",
              "      <th>education_num</th>\n",
              "      <td>-0.001019</td>\n",
              "      <td>0.036527</td>\n",
              "      <td>-0.043159</td>\n",
              "      <td>1.000000</td>\n",
              "      <td>0.122627</td>\n",
              "      <td>0.079932</td>\n",
              "      <td>0.148127</td>\n",
              "    </tr>\n",
              "    <tr>\n",
              "      <th>capital_gain</th>\n",
              "      <td>0.001680</td>\n",
              "      <td>0.077674</td>\n",
              "      <td>0.000437</td>\n",
              "      <td>0.122627</td>\n",
              "      <td>1.000000</td>\n",
              "      <td>-0.031614</td>\n",
              "      <td>0.078409</td>\n",
              "    </tr>\n",
              "    <tr>\n",
              "      <th>capital_loss</th>\n",
              "      <td>-0.001200</td>\n",
              "      <td>0.057775</td>\n",
              "      <td>-0.010259</td>\n",
              "      <td>0.079932</td>\n",
              "      <td>-0.031614</td>\n",
              "      <td>1.000000</td>\n",
              "      <td>0.054256</td>\n",
              "    </tr>\n",
              "    <tr>\n",
              "      <th>hours_per_week</th>\n",
              "      <td>0.000605</td>\n",
              "      <td>0.068756</td>\n",
              "      <td>-0.018770</td>\n",
              "      <td>0.148127</td>\n",
              "      <td>0.078409</td>\n",
              "      <td>0.054256</td>\n",
              "      <td>1.000000</td>\n",
              "    </tr>\n",
              "  </tbody>\n",
              "</table>\n",
              "</div>\n",
              "      <button class=\"colab-df-convert\" onclick=\"convertToInteractive('df-5425dd23-5878-4991-b9ac-fdfb576ac941')\"\n",
              "              title=\"Convert this dataframe to an interactive table.\"\n",
              "              style=\"display:none;\">\n",
              "        \n",
              "  <svg xmlns=\"http://www.w3.org/2000/svg\" height=\"24px\"viewBox=\"0 0 24 24\"\n",
              "       width=\"24px\">\n",
              "    <path d=\"M0 0h24v24H0V0z\" fill=\"none\"/>\n",
              "    <path d=\"M18.56 5.44l.94 2.06.94-2.06 2.06-.94-2.06-.94-.94-2.06-.94 2.06-2.06.94zm-11 1L8.5 8.5l.94-2.06 2.06-.94-2.06-.94L8.5 2.5l-.94 2.06-2.06.94zm10 10l.94 2.06.94-2.06 2.06-.94-2.06-.94-.94-2.06-.94 2.06-2.06.94z\"/><path d=\"M17.41 7.96l-1.37-1.37c-.4-.4-.92-.59-1.43-.59-.52 0-1.04.2-1.43.59L10.3 9.45l-7.72 7.72c-.78.78-.78 2.05 0 2.83L4 21.41c.39.39.9.59 1.41.59.51 0 1.02-.2 1.41-.59l7.78-7.78 2.81-2.81c.8-.78.8-2.07 0-2.86zM5.41 20L4 18.59l7.72-7.72 1.47 1.35L5.41 20z\"/>\n",
              "  </svg>\n",
              "      </button>\n",
              "      \n",
              "  <style>\n",
              "    .colab-df-container {\n",
              "      display:flex;\n",
              "      flex-wrap:wrap;\n",
              "      gap: 12px;\n",
              "    }\n",
              "\n",
              "    .colab-df-convert {\n",
              "      background-color: #E8F0FE;\n",
              "      border: none;\n",
              "      border-radius: 50%;\n",
              "      cursor: pointer;\n",
              "      display: none;\n",
              "      fill: #1967D2;\n",
              "      height: 32px;\n",
              "      padding: 0 0 0 0;\n",
              "      width: 32px;\n",
              "    }\n",
              "\n",
              "    .colab-df-convert:hover {\n",
              "      background-color: #E2EBFA;\n",
              "      box-shadow: 0px 1px 2px rgba(60, 64, 67, 0.3), 0px 1px 3px 1px rgba(60, 64, 67, 0.15);\n",
              "      fill: #174EA6;\n",
              "    }\n",
              "\n",
              "    [theme=dark] .colab-df-convert {\n",
              "      background-color: #3B4455;\n",
              "      fill: #D2E3FC;\n",
              "    }\n",
              "\n",
              "    [theme=dark] .colab-df-convert:hover {\n",
              "      background-color: #434B5C;\n",
              "      box-shadow: 0px 1px 3px 1px rgba(0, 0, 0, 0.15);\n",
              "      filter: drop-shadow(0px 1px 2px rgba(0, 0, 0, 0.3));\n",
              "      fill: #FFFFFF;\n",
              "    }\n",
              "  </style>\n",
              "\n",
              "      <script>\n",
              "        const buttonEl =\n",
              "          document.querySelector('#df-5425dd23-5878-4991-b9ac-fdfb576ac941 button.colab-df-convert');\n",
              "        buttonEl.style.display =\n",
              "          google.colab.kernel.accessAllowed ? 'block' : 'none';\n",
              "\n",
              "        async function convertToInteractive(key) {\n",
              "          const element = document.querySelector('#df-5425dd23-5878-4991-b9ac-fdfb576ac941');\n",
              "          const dataTable =\n",
              "            await google.colab.kernel.invokeFunction('convertToInteractive',\n",
              "                                                     [key], {});\n",
              "          if (!dataTable) return;\n",
              "\n",
              "          const docLinkHtml = 'Like what you see? Visit the ' +\n",
              "            '<a target=\"_blank\" href=https://colab.research.google.com/notebooks/data_table.ipynb>data table notebook</a>'\n",
              "            + ' to learn more about interactive tables.';\n",
              "          element.innerHTML = '';\n",
              "          dataTable['output_type'] = 'display_data';\n",
              "          await google.colab.output.renderOutput(dataTable, element);\n",
              "          const docLink = document.createElement('div');\n",
              "          docLink.innerHTML = docLinkHtml;\n",
              "          element.appendChild(docLink);\n",
              "        }\n",
              "      </script>\n",
              "    </div>\n",
              "  </div>\n",
              "  "
            ]
          },
          "metadata": {},
          "execution_count": 171
        }
      ]
    },
    {
      "cell_type": "code",
      "source": [
        "sns.set_theme(style=\"darkgrid\")\n",
        "plt.figure(figsize = (15,5))\n",
        "ax = sns.heatmap(df.corr()) "
      ],
      "metadata": {
        "colab": {
          "base_uri": "https://localhost:8080/",
          "height": 327
        },
        "id": "ZAPY6pjZIITm",
        "outputId": "d4d930b1-f075-4dd4-94ca-c371281042c4"
      },
      "execution_count": null,
      "outputs": [
        {
          "output_type": "display_data",
          "data": {
            "text/plain": [
              "<Figure size 1080x360 with 2 Axes>"
            ],
            "image/png": "[encoded data removed]"
          },
          "metadata": {}
        }
      ]
    },
    {
      "cell_type": "markdown",
      "source": [
        "\n",
        "\n",
        "*   As Variáveis númericas não apresentam alta correlação\n",
        "\n"
      ],
      "metadata": {
        "id": "5iVLff1HJYVj"
      }
    },
    {
      "cell_type": "markdown",
      "source": [
        "# Considerações finais "
      ],
      "metadata": {
        "id": "A3m7MR_V7PYB"
      }
    },
    {
      "cell_type": "markdown",
      "source": [
        "\n",
        "\n",
        "*   As váriaveis mostraram que geram impacto no salário \n",
        "*   fnlwgt não foi analisado pois se trata do número de pessoas que essa pessoa representa na população\n",
        "*   education_num representa a mesma coisa da education, mas em vez de escrever a educação da pessoa a coluna númera em ordem crescente, onde quanto maior o número, maior o grau de instrução\n",
        "\n",
        "\n",
        "\n",
        "\n",
        "\n"
      ],
      "metadata": {
        "id": "PmMEMAqI7Tkt"
      }
    }
  ]
}
